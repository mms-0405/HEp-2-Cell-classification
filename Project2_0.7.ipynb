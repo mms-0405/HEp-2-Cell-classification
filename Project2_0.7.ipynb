{
  "nbformat": 4,
  "nbformat_minor": 0,
  "metadata": {
    "accelerator": "GPU",
    "colab": {
      "name": "Project2-0.4.ipynb",
      "provenance": [],
      "collapsed_sections": []
    },
    "kernelspec": {
      "display_name": "Python 3 (ipykernel)",
      "language": "python",
      "name": "python3"
    },
    "language_info": {
      "codemirror_mode": {
        "name": "ipython",
        "version": 3
      },
      "file_extension": ".py",
      "mimetype": "text/x-python",
      "name": "python",
      "nbconvert_exporter": "python",
      "pygments_lexer": "ipython3",
      "version": "3.8.8"
    },
    "widgets": {
      "application/vnd.jupyter.widget-state+json": {
        "f848ca738b71434698764448f3f64f2d": {
          "model_module": "@jupyter-widgets/controls",
          "model_name": "HBoxModel",
          "model_module_version": "1.5.0",
          "state": {
            "_view_name": "HBoxView",
            "_dom_classes": [],
            "_model_name": "HBoxModel",
            "_view_module": "@jupyter-widgets/controls",
            "_model_module_version": "1.5.0",
            "_view_count": null,
            "_view_module_version": "1.5.0",
            "box_style": "",
            "layout": "IPY_MODEL_b9373d03757c4e418232cb7d52c817ef",
            "_model_module": "@jupyter-widgets/controls",
            "children": [
              "IPY_MODEL_c411051cad4a458e89905c18665120cd",
              "IPY_MODEL_a670d12d1e124e7e963139b870f58470",
              "IPY_MODEL_51bc096dd02a4c4f8b23b0aba6a8ba05"
            ]
          }
        },
        "b9373d03757c4e418232cb7d52c817ef": {
          "model_module": "@jupyter-widgets/base",
          "model_name": "LayoutModel",
          "model_module_version": "1.2.0",
          "state": {
            "_view_name": "LayoutView",
            "grid_template_rows": null,
            "right": null,
            "justify_content": null,
            "_view_module": "@jupyter-widgets/base",
            "overflow": null,
            "_model_module_version": "1.2.0",
            "_view_count": null,
            "flex_flow": null,
            "width": null,
            "min_width": null,
            "border": null,
            "align_items": null,
            "bottom": null,
            "_model_module": "@jupyter-widgets/base",
            "top": null,
            "grid_column": null,
            "overflow_y": null,
            "overflow_x": null,
            "grid_auto_flow": null,
            "grid_area": null,
            "grid_template_columns": null,
            "flex": null,
            "_model_name": "LayoutModel",
            "justify_items": null,
            "grid_row": null,
            "max_height": null,
            "align_content": null,
            "visibility": null,
            "align_self": null,
            "height": null,
            "min_height": null,
            "padding": null,
            "grid_auto_rows": null,
            "grid_gap": null,
            "max_width": null,
            "order": null,
            "_view_module_version": "1.2.0",
            "grid_template_areas": null,
            "object_position": null,
            "object_fit": null,
            "grid_auto_columns": null,
            "margin": null,
            "display": null,
            "left": null
          }
        },
        "c411051cad4a458e89905c18665120cd": {
          "model_module": "@jupyter-widgets/controls",
          "model_name": "HTMLModel",
          "model_module_version": "1.5.0",
          "state": {
            "_view_name": "HTMLView",
            "style": "IPY_MODEL_ccfffb758fcf4b53be50c3c6a1c6fef5",
            "_dom_classes": [],
            "description": "",
            "_model_name": "HTMLModel",
            "placeholder": "​",
            "_view_module": "@jupyter-widgets/controls",
            "_model_module_version": "1.5.0",
            "value": "100%",
            "_view_count": null,
            "_view_module_version": "1.5.0",
            "description_tooltip": null,
            "_model_module": "@jupyter-widgets/controls",
            "layout": "IPY_MODEL_416b952cef8740a488e12952e7cb94a7"
          }
        },
        "a670d12d1e124e7e963139b870f58470": {
          "model_module": "@jupyter-widgets/controls",
          "model_name": "FloatProgressModel",
          "model_module_version": "1.5.0",
          "state": {
            "_view_name": "ProgressView",
            "style": "IPY_MODEL_48cabe1c39c04751960a942088d9e0fb",
            "_dom_classes": [],
            "description": "",
            "_model_name": "FloatProgressModel",
            "bar_style": "success",
            "max": 244408911,
            "_view_module": "@jupyter-widgets/controls",
            "_model_module_version": "1.5.0",
            "value": 244408911,
            "_view_count": null,
            "_view_module_version": "1.5.0",
            "orientation": "horizontal",
            "min": 0,
            "description_tooltip": null,
            "_model_module": "@jupyter-widgets/controls",
            "layout": "IPY_MODEL_516f9c93513041f68d5313ccb7c2e7c4"
          }
        },
        "51bc096dd02a4c4f8b23b0aba6a8ba05": {
          "model_module": "@jupyter-widgets/controls",
          "model_name": "HTMLModel",
          "model_module_version": "1.5.0",
          "state": {
            "_view_name": "HTMLView",
            "style": "IPY_MODEL_74db7ac5665c4db191ceb7bfde62f850",
            "_dom_classes": [],
            "description": "",
            "_model_name": "HTMLModel",
            "placeholder": "​",
            "_view_module": "@jupyter-widgets/controls",
            "_model_module_version": "1.5.0",
            "value": " 233M/233M [00:02&lt;00:00, 104MB/s]",
            "_view_count": null,
            "_view_module_version": "1.5.0",
            "description_tooltip": null,
            "_model_module": "@jupyter-widgets/controls",
            "layout": "IPY_MODEL_afb16c71aa754d11aac81283da203c5d"
          }
        },
        "ccfffb758fcf4b53be50c3c6a1c6fef5": {
          "model_module": "@jupyter-widgets/controls",
          "model_name": "DescriptionStyleModel",
          "model_module_version": "1.5.0",
          "state": {
            "_view_name": "StyleView",
            "_model_name": "DescriptionStyleModel",
            "description_width": "",
            "_view_module": "@jupyter-widgets/base",
            "_model_module_version": "1.5.0",
            "_view_count": null,
            "_view_module_version": "1.2.0",
            "_model_module": "@jupyter-widgets/controls"
          }
        },
        "416b952cef8740a488e12952e7cb94a7": {
          "model_module": "@jupyter-widgets/base",
          "model_name": "LayoutModel",
          "model_module_version": "1.2.0",
          "state": {
            "_view_name": "LayoutView",
            "grid_template_rows": null,
            "right": null,
            "justify_content": null,
            "_view_module": "@jupyter-widgets/base",
            "overflow": null,
            "_model_module_version": "1.2.0",
            "_view_count": null,
            "flex_flow": null,
            "width": null,
            "min_width": null,
            "border": null,
            "align_items": null,
            "bottom": null,
            "_model_module": "@jupyter-widgets/base",
            "top": null,
            "grid_column": null,
            "overflow_y": null,
            "overflow_x": null,
            "grid_auto_flow": null,
            "grid_area": null,
            "grid_template_columns": null,
            "flex": null,
            "_model_name": "LayoutModel",
            "justify_items": null,
            "grid_row": null,
            "max_height": null,
            "align_content": null,
            "visibility": null,
            "align_self": null,
            "height": null,
            "min_height": null,
            "padding": null,
            "grid_auto_rows": null,
            "grid_gap": null,
            "max_width": null,
            "order": null,
            "_view_module_version": "1.2.0",
            "grid_template_areas": null,
            "object_position": null,
            "object_fit": null,
            "grid_auto_columns": null,
            "margin": null,
            "display": null,
            "left": null
          }
        },
        "48cabe1c39c04751960a942088d9e0fb": {
          "model_module": "@jupyter-widgets/controls",
          "model_name": "ProgressStyleModel",
          "model_module_version": "1.5.0",
          "state": {
            "_view_name": "StyleView",
            "_model_name": "ProgressStyleModel",
            "description_width": "",
            "_view_module": "@jupyter-widgets/base",
            "_model_module_version": "1.5.0",
            "_view_count": null,
            "_view_module_version": "1.2.0",
            "bar_color": null,
            "_model_module": "@jupyter-widgets/controls"
          }
        },
        "516f9c93513041f68d5313ccb7c2e7c4": {
          "model_module": "@jupyter-widgets/base",
          "model_name": "LayoutModel",
          "model_module_version": "1.2.0",
          "state": {
            "_view_name": "LayoutView",
            "grid_template_rows": null,
            "right": null,
            "justify_content": null,
            "_view_module": "@jupyter-widgets/base",
            "overflow": null,
            "_model_module_version": "1.2.0",
            "_view_count": null,
            "flex_flow": null,
            "width": null,
            "min_width": null,
            "border": null,
            "align_items": null,
            "bottom": null,
            "_model_module": "@jupyter-widgets/base",
            "top": null,
            "grid_column": null,
            "overflow_y": null,
            "overflow_x": null,
            "grid_auto_flow": null,
            "grid_area": null,
            "grid_template_columns": null,
            "flex": null,
            "_model_name": "LayoutModel",
            "justify_items": null,
            "grid_row": null,
            "max_height": null,
            "align_content": null,
            "visibility": null,
            "align_self": null,
            "height": null,
            "min_height": null,
            "padding": null,
            "grid_auto_rows": null,
            "grid_gap": null,
            "max_width": null,
            "order": null,
            "_view_module_version": "1.2.0",
            "grid_template_areas": null,
            "object_position": null,
            "object_fit": null,
            "grid_auto_columns": null,
            "margin": null,
            "display": null,
            "left": null
          }
        },
        "74db7ac5665c4db191ceb7bfde62f850": {
          "model_module": "@jupyter-widgets/controls",
          "model_name": "DescriptionStyleModel",
          "model_module_version": "1.5.0",
          "state": {
            "_view_name": "StyleView",
            "_model_name": "DescriptionStyleModel",
            "description_width": "",
            "_view_module": "@jupyter-widgets/base",
            "_model_module_version": "1.5.0",
            "_view_count": null,
            "_view_module_version": "1.2.0",
            "_model_module": "@jupyter-widgets/controls"
          }
        },
        "afb16c71aa754d11aac81283da203c5d": {
          "model_module": "@jupyter-widgets/base",
          "model_name": "LayoutModel",
          "model_module_version": "1.2.0",
          "state": {
            "_view_name": "LayoutView",
            "grid_template_rows": null,
            "right": null,
            "justify_content": null,
            "_view_module": "@jupyter-widgets/base",
            "overflow": null,
            "_model_module_version": "1.2.0",
            "_view_count": null,
            "flex_flow": null,
            "width": null,
            "min_width": null,
            "border": null,
            "align_items": null,
            "bottom": null,
            "_model_module": "@jupyter-widgets/base",
            "top": null,
            "grid_column": null,
            "overflow_y": null,
            "overflow_x": null,
            "grid_auto_flow": null,
            "grid_area": null,
            "grid_template_columns": null,
            "flex": null,
            "_model_name": "LayoutModel",
            "justify_items": null,
            "grid_row": null,
            "max_height": null,
            "align_content": null,
            "visibility": null,
            "align_self": null,
            "height": null,
            "min_height": null,
            "padding": null,
            "grid_auto_rows": null,
            "grid_gap": null,
            "max_width": null,
            "order": null,
            "_view_module_version": "1.2.0",
            "grid_template_areas": null,
            "object_position": null,
            "object_fit": null,
            "grid_auto_columns": null,
            "margin": null,
            "display": null,
            "left": null
          }
        }
      }
    }
  },
  "cells": [
    {
      "cell_type": "code",
      "metadata": {
        "colab": {
          "base_uri": "https://localhost:8080/",
          "height": 0
        },
        "id": "m91opT-9_Nc_",
        "outputId": "f3338b5f-b26e-4bed-f2ec-ddca2d91a90e"
      },
      "source": [
        "from google.colab import drive\n",
        "drive.mount('/content/drive')\n",
        "\n",
        "from __future__ import print_function\n",
        "from __future__ import division\n",
        "import torch\n",
        "import torch.nn as nn\n",
        "import torch.optim as optim\n",
        "import numpy as np\n",
        "import torchvision\n",
        "from torchvision import datasets, models, transforms\n",
        "import matplotlib.pyplot as plt\n",
        "import time\n",
        "import os\n",
        "import copy\n",
        "print(\"PyTorch Version: \",torch.__version__)\n",
        "print(\"Torchvision Version: \",torchvision.__version__)\n",
        "%ls"
      ],
      "execution_count": 1,
      "outputs": [
        {
          "output_type": "stream",
          "name": "stdout",
          "text": [
            "Mounted at /content/drive\n",
            "PyTorch Version:  1.9.0+cu111\n",
            "Torchvision Version:  0.10.0+cu111\n",
            "\u001b[0m\u001b[01;34mdrive\u001b[0m/  \u001b[01;34msample_data\u001b[0m/\n"
          ]
        }
      ]
    },
    {
      "cell_type": "code",
      "metadata": {
        "id": "KwCcBOXLA7wH"
      },
      "source": [
        "# Top level data directory. Here we assume the format of the directory conforms\n",
        "#   to the ImageFolder structure\n",
        "data_dir = \"/content/drive/MyDrive/colab/ELEC5622/ThreeDatasetsNew/\"\n",
        "\n",
        "# Models to choose from [resnet, alexnet, vgg, squeezenet, densenet, inception]\n",
        "model_name = \"alexnet\"\n",
        "\n",
        "# Number of classes in the dataset\n",
        "num_classes = 6\n",
        "\n",
        "# Batch size for training (change depending on how much memory you have)\n",
        "batch_size = 64\n",
        "\n",
        "# Number of epochs to train for\n",
        "num_epochs = 50\n",
        "\n",
        "# Flag for feature extracting. When False, we finetune the whole model,\n",
        "#   when True we only update the reshaped layer params\n",
        "feature_extract = True"
      ],
      "execution_count": 3,
      "outputs": []
    },
    {
      "cell_type": "code",
      "metadata": {
        "id": "ove3PMB3byXE"
      },
      "source": [
        "#Model Training and Validation Code\n",
        "def train_model(model, dataloaders, criterion, optimizer, num_epochs=25, is_inception=False):\n",
        "    since = time.time()\n",
        "\n",
        "    val_acc_history = []\n",
        "\n",
        "    best_model_wts = copy.deepcopy(model.state_dict())\n",
        "    best_acc = 0.0\n",
        "\n",
        "    for epoch in range(num_epochs):\n",
        "        print('Epoch {}/{}'.format(epoch, num_epochs - 1))\n",
        "        print('-' * 10)\n",
        "\n",
        "        # Each epoch has a training and validation phase\n",
        "        for phase in ['train', 'val']:\n",
        "            if phase == 'train':\n",
        "                model.train()  # Set model to training mode\n",
        "            else:\n",
        "                model.eval()   # Set model to evaluate mode\n",
        "\n",
        "            running_loss = 0.0\n",
        "            running_corrects = 0\n",
        "\n",
        "            # Iterate over data.\n",
        "            for inputs, labels in dataloaders[phase]:\n",
        "                inputs = inputs.to(device)\n",
        "                labels = labels.to(device)\n",
        "\n",
        "                # zero the parameter gradients\n",
        "                optimizer.zero_grad()\n",
        "\n",
        "                # forward\n",
        "                # track history if only in train\n",
        "                with torch.set_grad_enabled(phase == 'train'):\n",
        "                    # Get model outputs and calculate loss\n",
        "                    # Special case for inception because in training it has an auxiliary output. In train\n",
        "                    #   mode we calculate the loss by summing the final output and the auxiliary output\n",
        "                    #   but in testing we only consider the final output.\n",
        "                    if is_inception and phase == 'train':\n",
        "                        # From https://discuss.pytorch.org/t/how-to-optimize-inception-model-with-auxiliary-classifiers/7958\n",
        "                        outputs, aux_outputs = model(inputs)\n",
        "                        loss1 = criterion(outputs, labels)\n",
        "                        loss2 = criterion(aux_outputs, labels)\n",
        "                        loss = loss1 + 0.4*loss2\n",
        "                    else:\n",
        "                        outputs = model(inputs)\n",
        "                        loss = criterion(outputs, labels)\n",
        "\n",
        "                    _, preds = torch.max(outputs, 1)\n",
        "\n",
        "                    # backward + optimize only if in training phase\n",
        "                    if phase == 'train':\n",
        "                        loss.backward()\n",
        "                        optimizer.step()\n",
        "\n",
        "                # statistics\n",
        "                running_loss += loss.item() * inputs.size(0)\n",
        "                running_corrects += torch.sum(preds == labels.data)\n",
        "\n",
        "            epoch_loss = running_loss / len(dataloaders[phase].dataset)\n",
        "            epoch_acc = running_corrects.double() / len(dataloaders[phase].dataset)\n",
        "\n",
        "            print('{} Loss: {:.4f} Acc: {:.4f}'.format(phase, epoch_loss, epoch_acc))\n",
        "\n",
        "            # deep copy the model\n",
        "            if phase == 'val' and epoch_acc > best_acc:\n",
        "                best_acc = epoch_acc\n",
        "                best_model_wts = copy.deepcopy(model.state_dict())\n",
        "            if phase == 'val':\n",
        "                val_acc_history.append(epoch_acc)\n",
        "\n",
        "        print()\n",
        "\n",
        "    time_elapsed = time.time() - since\n",
        "    print('Training complete in {:.0f}m {:.0f}s'.format(time_elapsed // 60, time_elapsed % 60))\n",
        "    print('Best val Acc: {:4f}'.format(best_acc))\n",
        "\n",
        "    # load best model weights\n",
        "    model.load_state_dict(best_model_wts)\n",
        "    return model, val_acc_history"
      ],
      "execution_count": 4,
      "outputs": []
    },
    {
      "cell_type": "code",
      "metadata": {
        "id": "6CS-plh4b8Dm"
      },
      "source": [
        "#Set Model Parameters’ .requires_grad attribute\n",
        "def set_parameter_requires_grad(model, feature_extracting):\n",
        "    if feature_extracting:\n",
        "        for param in model.parameters():\n",
        "            param.requires_grad = False"
      ],
      "execution_count": 5,
      "outputs": []
    },
    {
      "cell_type": "code",
      "metadata": {
        "colab": {
          "base_uri": "https://localhost:8080/",
          "height": 515,
          "referenced_widgets": [
            "f848ca738b71434698764448f3f64f2d",
            "b9373d03757c4e418232cb7d52c817ef",
            "c411051cad4a458e89905c18665120cd",
            "a670d12d1e124e7e963139b870f58470",
            "51bc096dd02a4c4f8b23b0aba6a8ba05",
            "ccfffb758fcf4b53be50c3c6a1c6fef5",
            "416b952cef8740a488e12952e7cb94a7",
            "48cabe1c39c04751960a942088d9e0fb",
            "516f9c93513041f68d5313ccb7c2e7c4",
            "74db7ac5665c4db191ceb7bfde62f850",
            "afb16c71aa754d11aac81283da203c5d"
          ]
        },
        "id": "TcWa8rAtb-yt",
        "outputId": "a65ee6b4-22c5-4687-ee1e-993f1df7ed64"
      },
      "source": [
        "#Initialize and Reshape the Networks\n",
        "def initialize_model(model_name, num_classes, feature_extract, use_pretrained=True):\n",
        "    # Initialize these variables which will be set in this if statement. Each of these\n",
        "    #   variables is model specific.\n",
        "    model_ft = None\n",
        "    input_size = 0\n",
        "\n",
        "    if model_name == \"alexnet\":\n",
        "        \"\"\" Alexnet\n",
        "        \"\"\"\n",
        "        model_ft = models.alexnet(pretrained=use_pretrained)\n",
        "        set_parameter_requires_grad(model_ft, feature_extract)\n",
        "        num_ftrs = model_ft.classifier[6].in_features\n",
        "        model_ft.classifier[6] = nn.Linear(num_ftrs,num_classes)\n",
        "        input_size = 224\n",
        "    else:\n",
        "        print(\"Invalid model name, exiting...\")\n",
        "        exit()\n",
        "\n",
        "    return model_ft, input_size\n",
        "\n",
        "# Initialize the model for this run\n",
        "model_ft, input_size = initialize_model(model_name, num_classes, feature_extract, use_pretrained=True)\n",
        "\n",
        "# Print the model we just instantiated\n",
        "print(model_ft)"
      ],
      "execution_count": 6,
      "outputs": [
        {
          "output_type": "stream",
          "name": "stderr",
          "text": [
            "Downloading: \"https://download.pytorch.org/models/alexnet-owt-7be5be79.pth\" to /root/.cache/torch/hub/checkpoints/alexnet-owt-7be5be79.pth\n"
          ]
        },
        {
          "output_type": "display_data",
          "data": {
            "application/vnd.jupyter.widget-view+json": {
              "model_id": "f848ca738b71434698764448f3f64f2d",
              "version_minor": 0,
              "version_major": 2
            },
            "text/plain": [
              "  0%|          | 0.00/233M [00:00<?, ?B/s]"
            ]
          },
          "metadata": {}
        },
        {
          "output_type": "stream",
          "name": "stdout",
          "text": [
            "AlexNet(\n",
            "  (features): Sequential(\n",
            "    (0): Conv2d(3, 64, kernel_size=(11, 11), stride=(4, 4), padding=(2, 2))\n",
            "    (1): ReLU(inplace=True)\n",
            "    (2): MaxPool2d(kernel_size=3, stride=2, padding=0, dilation=1, ceil_mode=False)\n",
            "    (3): Conv2d(64, 192, kernel_size=(5, 5), stride=(1, 1), padding=(2, 2))\n",
            "    (4): ReLU(inplace=True)\n",
            "    (5): MaxPool2d(kernel_size=3, stride=2, padding=0, dilation=1, ceil_mode=False)\n",
            "    (6): Conv2d(192, 384, kernel_size=(3, 3), stride=(1, 1), padding=(1, 1))\n",
            "    (7): ReLU(inplace=True)\n",
            "    (8): Conv2d(384, 256, kernel_size=(3, 3), stride=(1, 1), padding=(1, 1))\n",
            "    (9): ReLU(inplace=True)\n",
            "    (10): Conv2d(256, 256, kernel_size=(3, 3), stride=(1, 1), padding=(1, 1))\n",
            "    (11): ReLU(inplace=True)\n",
            "    (12): MaxPool2d(kernel_size=3, stride=2, padding=0, dilation=1, ceil_mode=False)\n",
            "  )\n",
            "  (avgpool): AdaptiveAvgPool2d(output_size=(6, 6))\n",
            "  (classifier): Sequential(\n",
            "    (0): Dropout(p=0.5, inplace=False)\n",
            "    (1): Linear(in_features=9216, out_features=4096, bias=True)\n",
            "    (2): ReLU(inplace=True)\n",
            "    (3): Dropout(p=0.5, inplace=False)\n",
            "    (4): Linear(in_features=4096, out_features=4096, bias=True)\n",
            "    (5): ReLU(inplace=True)\n",
            "    (6): Linear(in_features=4096, out_features=6, bias=True)\n",
            "  )\n",
            ")\n"
          ]
        }
      ]
    },
    {
      "cell_type": "code",
      "metadata": {
        "colab": {
          "base_uri": "https://localhost:8080/",
          "height": 0
        },
        "id": "9tkM53C0c_Ew",
        "outputId": "aa38da6b-c7df-4473-8a5f-cc910d4f09e8"
      },
      "source": [
        "# Data augmentation and normalization for training\n",
        "# Just normalization for validation\n",
        "data_transforms = {\n",
        "    'train': transforms.Compose([\n",
        "        transforms.RandomResizedCrop(input_size),\n",
        "        transforms.RandomHorizontalFlip(),\n",
        "        transforms.ToTensor(),\n",
        "        transforms.Normalize([0.485, 0.456, 0.406], [0.229, 0.224, 0.225])\n",
        "    ]),\n",
        "    'val': transforms.Compose([\n",
        "        transforms.Resize(input_size),\n",
        "        transforms.CenterCrop(input_size),\n",
        "        transforms.ToTensor(),\n",
        "        transforms.Normalize([0.485, 0.456, 0.406], [0.229, 0.224, 0.225])\n",
        "    ]),\n",
        "}\n",
        "\n",
        "print(\"Initializing Datasets and Dataloaders...\")\n",
        "\n",
        "# Create training and validation datasets\n",
        "image_datasets = {x: datasets.ImageFolder(os.path.join(data_dir, x), data_transforms[x]) for x in ['train', 'val']}\n",
        "# Create training and validation dataloaders\n",
        "dataloaders_dict = {x: torch.utils.data.DataLoader(image_datasets[x], batch_size=batch_size, shuffle=True, num_workers=4) for x in ['train', 'val']}\n",
        "\n",
        "# Detect if we have a GPU available\n",
        "device = torch.device(\"cuda:0\" if torch.cuda.is_available() else \"cpu\")"
      ],
      "execution_count": 7,
      "outputs": [
        {
          "output_type": "stream",
          "name": "stdout",
          "text": [
            "Initializing Datasets and Dataloaders...\n"
          ]
        },
        {
          "output_type": "stream",
          "name": "stderr",
          "text": [
            "/usr/local/lib/python3.7/dist-packages/torch/utils/data/dataloader.py:481: UserWarning: This DataLoader will create 4 worker processes in total. Our suggested max number of worker in current system is 2, which is smaller than what this DataLoader is going to create. Please be aware that excessive worker creation might get DataLoader running slow or even freeze, lower the worker number to avoid potential slowness/freeze if necessary.\n",
            "  cpuset_checked))\n"
          ]
        }
      ]
    },
    {
      "cell_type": "code",
      "metadata": {
        "colab": {
          "base_uri": "https://localhost:8080/",
          "height": 0
        },
        "id": "TDZt-wt8iXsy",
        "outputId": "b2df793a-931e-4517-fd74-06789e6f8b0a"
      },
      "source": [
        "# Send the model to GPU\n",
        "model_ft = model_ft.to(device)\n",
        "\n",
        "# Gather the parameters to be optimized/updated in this run. If we are\n",
        "#  finetuning we will be updating all parameters. However, if we are\n",
        "#  doing feature extract method, we will only update the parameters\n",
        "#  that we have just initialized, i.e. the parameters with requires_grad\n",
        "#  is True.\n",
        "params_to_update = model_ft.parameters()\n",
        "print(\"Params to learn:\")\n",
        "if feature_extract:\n",
        "    params_to_update = []\n",
        "    for name,param in model_ft.named_parameters():\n",
        "        if param.requires_grad == True:\n",
        "            params_to_update.append(param)\n",
        "            print(\"\\t\",name)\n",
        "else:\n",
        "    for name,param in model_ft.named_parameters():\n",
        "        if param.requires_grad == True:\n",
        "            print(\"\\t\",name)\n",
        "\n",
        "# Observe that all parameters are being optimized\n",
        "optimizer_ft = optim.SGD(params_to_update, lr=0.003, momentum=0.9)"
      ],
      "execution_count": 8,
      "outputs": [
        {
          "output_type": "stream",
          "name": "stdout",
          "text": [
            "Params to learn:\n",
            "\t classifier.6.weight\n",
            "\t classifier.6.bias\n"
          ]
        }
      ]
    },
    {
      "cell_type": "code",
      "metadata": {
        "colab": {
          "base_uri": "https://localhost:8080/",
          "height": 4567
        },
        "id": "otJ_5_uHkUx1",
        "outputId": "f86c5438-a60f-47c8-c83c-f34e95c0c4dd"
      },
      "source": [
        "# Setup the loss fxn\n",
        "criterion = nn.CrossEntropyLoss()\n",
        "\n",
        "# Train and evaluate\n",
        "model_ft, hist = train_model(model_ft, dataloaders_dict, criterion, optimizer_ft, num_epochs=num_epochs, is_inception=(model_name==\"inception\"))\n",
        "\n",
        "x = range(len(hist))\n",
        "y = hist\n",
        "plt.plot(x,y,'-ro')\n",
        "#plt.savefig(./img1.png)\n"
      ],
      "execution_count": 9,
      "outputs": [
        {
          "output_type": "stream",
          "name": "stdout",
          "text": [
            "Epoch 0/49\n",
            "----------\n"
          ]
        },
        {
          "output_type": "stream",
          "name": "stderr",
          "text": [
            "/usr/local/lib/python3.7/dist-packages/torch/utils/data/dataloader.py:481: UserWarning: This DataLoader will create 4 worker processes in total. Our suggested max number of worker in current system is 2, which is smaller than what this DataLoader is going to create. Please be aware that excessive worker creation might get DataLoader running slow or even freeze, lower the worker number to avoid potential slowness/freeze if necessary.\n",
            "  cpuset_checked))\n",
            "/usr/local/lib/python3.7/dist-packages/torch/nn/functional.py:718: UserWarning: Named tensors and all their associated APIs are an experimental feature and subject to change. Please do not use them for anything important until they are released as stable. (Triggered internally at  /pytorch/c10/core/TensorImpl.h:1156.)\n",
            "  return torch.max_pool2d(input, kernel_size, stride, padding, dilation, ceil_mode)\n"
          ]
        },
        {
          "output_type": "stream",
          "name": "stdout",
          "text": [
            "train Loss: 0.9131 Acc: 0.6571\n",
            "val Loss: 0.6812 Acc: 0.7526\n",
            "\n",
            "Epoch 1/49\n",
            "----------\n",
            "train Loss: 0.7512 Acc: 0.7177\n",
            "val Loss: 0.6244 Acc: 0.7545\n",
            "\n",
            "Epoch 2/49\n",
            "----------\n",
            "train Loss: 0.7739 Acc: 0.7107\n",
            "val Loss: 0.6381 Acc: 0.7549\n",
            "\n",
            "Epoch 3/49\n",
            "----------\n",
            "train Loss: 0.8083 Acc: 0.7060\n",
            "val Loss: 0.6742 Acc: 0.7499\n",
            "\n",
            "Epoch 4/49\n",
            "----------\n",
            "train Loss: 0.7466 Acc: 0.7269\n",
            "val Loss: 0.6086 Acc: 0.7743\n",
            "\n",
            "Epoch 5/49\n",
            "----------\n",
            "train Loss: 0.7147 Acc: 0.7360\n",
            "val Loss: 0.4867 Acc: 0.8055\n",
            "\n",
            "Epoch 6/49\n",
            "----------\n",
            "train Loss: 0.6672 Acc: 0.7470\n",
            "val Loss: 0.4553 Acc: 0.8248\n",
            "\n",
            "Epoch 7/49\n",
            "----------\n",
            "train Loss: 0.7057 Acc: 0.7344\n",
            "val Loss: 0.4367 Acc: 0.8303\n",
            "\n",
            "Epoch 8/49\n",
            "----------\n",
            "train Loss: 0.6959 Acc: 0.7453\n",
            "val Loss: 0.6036 Acc: 0.7733\n",
            "\n",
            "Epoch 9/49\n",
            "----------\n",
            "train Loss: 0.7464 Acc: 0.7260\n",
            "val Loss: 0.4880 Acc: 0.8189\n",
            "\n",
            "Epoch 10/49\n",
            "----------\n",
            "train Loss: 0.7194 Acc: 0.7370\n",
            "val Loss: 0.5472 Acc: 0.7931\n",
            "\n",
            "Epoch 11/49\n",
            "----------\n",
            "train Loss: 0.6861 Acc: 0.7411\n",
            "val Loss: 0.6388 Acc: 0.7591\n",
            "\n",
            "Epoch 12/49\n",
            "----------\n",
            "train Loss: 0.7073 Acc: 0.7461\n",
            "val Loss: 0.4185 Acc: 0.8497\n",
            "\n",
            "Epoch 13/49\n",
            "----------\n",
            "train Loss: 0.6830 Acc: 0.7439\n",
            "val Loss: 0.4472 Acc: 0.8409\n",
            "\n",
            "Epoch 14/49\n",
            "----------\n",
            "train Loss: 0.6859 Acc: 0.7451\n",
            "val Loss: 0.5858 Acc: 0.7807\n",
            "\n",
            "Epoch 15/49\n",
            "----------\n",
            "train Loss: 0.7113 Acc: 0.7372\n",
            "val Loss: 0.5463 Acc: 0.7977\n",
            "\n",
            "Epoch 16/49\n",
            "----------\n",
            "train Loss: 0.7077 Acc: 0.7367\n",
            "val Loss: 0.5863 Acc: 0.7775\n",
            "\n",
            "Epoch 17/49\n",
            "----------\n",
            "train Loss: 0.6743 Acc: 0.7527\n",
            "val Loss: 0.4426 Acc: 0.8368\n",
            "\n",
            "Epoch 18/49\n",
            "----------\n",
            "train Loss: 0.6682 Acc: 0.7552\n",
            "val Loss: 0.4614 Acc: 0.8285\n",
            "\n",
            "Epoch 19/49\n",
            "----------\n",
            "train Loss: 0.6665 Acc: 0.7526\n",
            "val Loss: 0.4652 Acc: 0.8257\n",
            "\n",
            "Epoch 20/49\n",
            "----------\n",
            "train Loss: 0.6854 Acc: 0.7422\n",
            "val Loss: 0.5256 Acc: 0.7931\n",
            "\n",
            "Epoch 21/49\n",
            "----------\n",
            "train Loss: 0.6957 Acc: 0.7403\n",
            "val Loss: 0.4431 Acc: 0.8354\n",
            "\n",
            "Epoch 22/49\n",
            "----------\n",
            "train Loss: 0.6746 Acc: 0.7503\n",
            "val Loss: 0.4045 Acc: 0.8566\n",
            "\n",
            "Epoch 23/49\n",
            "----------\n",
            "train Loss: 0.6568 Acc: 0.7539\n",
            "val Loss: 0.4978 Acc: 0.8106\n",
            "\n",
            "Epoch 24/49\n",
            "----------\n",
            "train Loss: 0.6938 Acc: 0.7466\n",
            "val Loss: 0.7141 Acc: 0.7490\n",
            "\n",
            "Epoch 25/49\n",
            "----------\n",
            "train Loss: 0.6668 Acc: 0.7507\n",
            "val Loss: 0.4605 Acc: 0.8216\n",
            "\n",
            "Epoch 26/49\n",
            "----------\n",
            "train Loss: 0.7032 Acc: 0.7395\n",
            "val Loss: 0.4412 Acc: 0.8349\n",
            "\n",
            "Epoch 27/49\n",
            "----------\n",
            "train Loss: 0.6964 Acc: 0.7405\n",
            "val Loss: 0.4977 Acc: 0.8097\n",
            "\n",
            "Epoch 28/49\n",
            "----------\n",
            "train Loss: 0.6612 Acc: 0.7559\n",
            "val Loss: 0.4546 Acc: 0.8285\n",
            "\n",
            "Epoch 29/49\n",
            "----------\n",
            "train Loss: 0.6796 Acc: 0.7464\n",
            "val Loss: 0.5070 Acc: 0.8087\n",
            "\n",
            "Epoch 30/49\n",
            "----------\n",
            "train Loss: 0.6966 Acc: 0.7450\n",
            "val Loss: 0.4794 Acc: 0.8299\n",
            "\n",
            "Epoch 31/49\n",
            "----------\n",
            "train Loss: 0.7000 Acc: 0.7421\n",
            "val Loss: 0.5276 Acc: 0.8055\n",
            "\n",
            "Epoch 32/49\n",
            "----------\n",
            "train Loss: 0.6867 Acc: 0.7484\n",
            "val Loss: 0.5020 Acc: 0.8014\n",
            "\n",
            "Epoch 33/49\n",
            "----------\n",
            "train Loss: 0.6732 Acc: 0.7445\n",
            "val Loss: 0.4998 Acc: 0.8032\n",
            "\n",
            "Epoch 34/49\n",
            "----------\n",
            "train Loss: 0.7353 Acc: 0.7370\n",
            "val Loss: 0.8823 Acc: 0.7287\n",
            "\n",
            "Epoch 35/49\n",
            "----------\n",
            "train Loss: 0.6606 Acc: 0.7547\n",
            "val Loss: 0.3948 Acc: 0.8543\n",
            "\n",
            "Epoch 36/49\n",
            "----------\n",
            "train Loss: 0.6571 Acc: 0.7583\n",
            "val Loss: 0.4952 Acc: 0.8051\n",
            "\n",
            "Epoch 37/49\n",
            "----------\n",
            "train Loss: 0.6942 Acc: 0.7457\n",
            "val Loss: 0.4413 Acc: 0.8349\n",
            "\n",
            "Epoch 38/49\n",
            "----------\n",
            "train Loss: 0.6747 Acc: 0.7573\n",
            "val Loss: 0.5614 Acc: 0.7830\n",
            "\n",
            "Epoch 39/49\n",
            "----------\n",
            "train Loss: 0.6590 Acc: 0.7542\n",
            "val Loss: 0.3966 Acc: 0.8492\n",
            "\n",
            "Epoch 40/49\n",
            "----------\n",
            "train Loss: 0.6353 Acc: 0.7611\n",
            "val Loss: 0.5219 Acc: 0.8000\n",
            "\n",
            "Epoch 41/49\n",
            "----------\n",
            "train Loss: 0.6780 Acc: 0.7520\n",
            "val Loss: 0.4327 Acc: 0.8280\n",
            "\n",
            "Epoch 42/49\n",
            "----------\n",
            "train Loss: 0.6606 Acc: 0.7559\n",
            "val Loss: 0.5110 Acc: 0.8179\n",
            "\n",
            "Epoch 43/49\n",
            "----------\n",
            "train Loss: 0.6801 Acc: 0.7522\n",
            "val Loss: 0.4430 Acc: 0.8317\n",
            "\n",
            "Epoch 44/49\n",
            "----------\n",
            "train Loss: 0.6593 Acc: 0.7551\n",
            "val Loss: 0.4718 Acc: 0.8179\n",
            "\n",
            "Epoch 45/49\n",
            "----------\n",
            "train Loss: 0.6559 Acc: 0.7586\n",
            "val Loss: 0.5593 Acc: 0.7922\n",
            "\n",
            "Epoch 46/49\n",
            "----------\n",
            "train Loss: 0.7009 Acc: 0.7454\n",
            "val Loss: 0.5582 Acc: 0.7885\n",
            "\n",
            "Epoch 47/49\n",
            "----------\n",
            "train Loss: 0.6707 Acc: 0.7553\n",
            "val Loss: 0.5007 Acc: 0.8014\n",
            "\n",
            "Epoch 48/49\n",
            "----------\n",
            "train Loss: 0.6564 Acc: 0.7599\n",
            "val Loss: 0.5005 Acc: 0.8179\n",
            "\n",
            "Epoch 49/49\n",
            "----------\n",
            "train Loss: 0.6617 Acc: 0.7539\n",
            "val Loss: 0.4016 Acc: 0.8510\n",
            "\n",
            "Training complete in 42m 20s\n",
            "Best val Acc: 0.856552\n"
          ]
        },
        {
          "output_type": "execute_result",
          "data": {
            "text/plain": [
              "[<matplotlib.lines.Line2D at 0x7f101c6b1650>]"
            ]
          },
          "metadata": {},
          "execution_count": 9
        },
        {
          "output_type": "display_data",
          "data": {
            "image/png": "[encoded data removed]",
            "text/plain": [
              "<Figure size 432x288 with 1 Axes>"
            ]
          },
          "metadata": {
            "needs_background": "light"
          }
        }
      ]
    },
    {
      "cell_type": "code",
      "metadata": {
        "id": "juPTGxQ-XnXP"
      },
      "source": [
        "#Testing result\n",
        "import torch\n",
        "torch.save(model_ft,\"model1.pth\")"
      ],
      "execution_count": 10,
      "outputs": []
    },
    {
      "cell_type": "code",
      "metadata": {
        "colab": {
          "base_uri": "https://localhost:8080/",
          "height": 0
        },
        "id": "x_u6uo1VYiBI",
        "outputId": "aa196d2d-b953-4990-f241-be24ff262f56"
      },
      "source": [
        "# Data augmentation and normalization for testing\n",
        "# Just normalization for test\n",
        "data_transforms = {\n",
        "    'test': transforms.Compose([\n",
        "        transforms.Resize(input_size),\n",
        "        transforms.CenterCrop(input_size),\n",
        "        transforms.ToTensor(),\n",
        "        transforms.Normalize([0.485, 0.456, 0.406], [0.229, 0.224, 0.225])\n",
        "    ]),\n",
        "}\n",
        "\n",
        "print(\"Initializing Datasets and Dataloaders...\")\n",
        "\n",
        "# Create testing datasets\n",
        "image_datasets = {x: datasets.ImageFolder(os.path.join(data_dir, x), data_transforms[x]) for x in ['test']}\n",
        "# Create testing dataloaders\n",
        "dataloaders_dict = {x: torch.utils.data.DataLoader(image_datasets[x], batch_size=batch_size, shuffle=True, num_workers=4) for x in ['test']}\n",
        "\n",
        "model_ft.eval()"
      ],
      "execution_count": 11,
      "outputs": [
        {
          "output_type": "stream",
          "name": "stdout",
          "text": [
            "Initializing Datasets and Dataloaders...\n"
          ]
        },
        {
          "output_type": "stream",
          "name": "stderr",
          "text": [
            "/usr/local/lib/python3.7/dist-packages/torch/utils/data/dataloader.py:481: UserWarning: This DataLoader will create 4 worker processes in total. Our suggested max number of worker in current system is 2, which is smaller than what this DataLoader is going to create. Please be aware that excessive worker creation might get DataLoader running slow or even freeze, lower the worker number to avoid potential slowness/freeze if necessary.\n",
            "  cpuset_checked))\n"
          ]
        },
        {
          "output_type": "execute_result",
          "data": {
            "text/plain": [
              "AlexNet(\n",
              "  (features): Sequential(\n",
              "    (0): Conv2d(3, 64, kernel_size=(11, 11), stride=(4, 4), padding=(2, 2))\n",
              "    (1): ReLU(inplace=True)\n",
              "    (2): MaxPool2d(kernel_size=3, stride=2, padding=0, dilation=1, ceil_mode=False)\n",
              "    (3): Conv2d(64, 192, kernel_size=(5, 5), stride=(1, 1), padding=(2, 2))\n",
              "    (4): ReLU(inplace=True)\n",
              "    (5): MaxPool2d(kernel_size=3, stride=2, padding=0, dilation=1, ceil_mode=False)\n",
              "    (6): Conv2d(192, 384, kernel_size=(3, 3), stride=(1, 1), padding=(1, 1))\n",
              "    (7): ReLU(inplace=True)\n",
              "    (8): Conv2d(384, 256, kernel_size=(3, 3), stride=(1, 1), padding=(1, 1))\n",
              "    (9): ReLU(inplace=True)\n",
              "    (10): Conv2d(256, 256, kernel_size=(3, 3), stride=(1, 1), padding=(1, 1))\n",
              "    (11): ReLU(inplace=True)\n",
              "    (12): MaxPool2d(kernel_size=3, stride=2, padding=0, dilation=1, ceil_mode=False)\n",
              "  )\n",
              "  (avgpool): AdaptiveAvgPool2d(output_size=(6, 6))\n",
              "  (classifier): Sequential(\n",
              "    (0): Dropout(p=0.5, inplace=False)\n",
              "    (1): Linear(in_features=9216, out_features=4096, bias=True)\n",
              "    (2): ReLU(inplace=True)\n",
              "    (3): Dropout(p=0.5, inplace=False)\n",
              "    (4): Linear(in_features=4096, out_features=4096, bias=True)\n",
              "    (5): ReLU(inplace=True)\n",
              "    (6): Linear(in_features=4096, out_features=6, bias=True)\n",
              "  )\n",
              ")"
            ]
          },
          "metadata": {},
          "execution_count": 11
        }
      ]
    },
    {
      "cell_type": "code",
      "metadata": {
        "colab": {
          "base_uri": "https://localhost:8080/",
          "height": 0
        },
        "id": "fC_x07TCR2Ax",
        "outputId": "cdb09c0d-b72e-4ffe-8d76-3538b86fc634"
      },
      "source": [
        "import numpy as np\n",
        "predictions_all = []\n",
        "targets_all = []\n",
        "with torch.no_grad():\n",
        "    for batch in dataloaders_dict['test']:\n",
        "        inputs, targets = (b.to(device) for b in batch)\n",
        "        predictions = model_ft(inputs)\n",
        "        predictions_1 = torch.argmax(predictions, 1)\n",
        "        predictions_np = predictions_1.cpu().numpy()\n",
        "        targets_np = targets.cpu().numpy()\n",
        "        predictions_all.extend(list(predictions_np))\n",
        "        targets_all.extend(list(targets_np))\n",
        "\n",
        "print(len(predictions_all))"
      ],
      "execution_count": 15,
      "outputs": [
        {
          "output_type": "stream",
          "name": "stderr",
          "text": [
            "/usr/local/lib/python3.7/dist-packages/torch/utils/data/dataloader.py:481: UserWarning: This DataLoader will create 4 worker processes in total. Our suggested max number of worker in current system is 2, which is smaller than what this DataLoader is going to create. Please be aware that excessive worker creation might get DataLoader running slow or even freeze, lower the worker number to avoid potential slowness/freeze if necessary.\n",
            "  cpuset_checked))\n"
          ]
        },
        {
          "output_type": "stream",
          "name": "stdout",
          "text": [
            "2720\n"
          ]
        }
      ]
    },
    {
      "cell_type": "code",
      "metadata": {
        "colab": {
          "base_uri": "https://localhost:8080/",
          "height": 0
        },
        "id": "qeQVcCrKTrTc",
        "outputId": "9e049a6f-b104-470e-b3af-f2dc9ea5c6ca"
      },
      "source": [
        "#Evaluation\n",
        "from sklearn.metrics import classification_report\n",
        "print(classification_report(predictions_all, targets_all))\n",
        "\n",
        "from sklearn.metrics import confusion_matrix\n",
        "conf_matrix = confusion_matrix(predictions_all, targets_all)"
      ],
      "execution_count": 16,
      "outputs": [
        {
          "output_type": "stream",
          "name": "stdout",
          "text": [
            "              precision    recall  f1-score   support\n",
            "\n",
            "           0       0.94      0.90      0.92       510\n",
            "           1       0.53      0.91      0.67        97\n",
            "           2       0.93      0.75      0.83       647\n",
            "           3       0.77      0.96      0.85       353\n",
            "           4       0.89      0.84      0.86       559\n",
            "           5       0.77      0.80      0.78       554\n",
            "\n",
            "    accuracy                           0.84      2720\n",
            "   macro avg       0.80      0.86      0.82      2720\n",
            "weighted avg       0.85      0.84      0.84      2720\n",
            "\n"
          ]
        }
      ]
    },
    {
      "cell_type": "code",
      "metadata": {
        "id": "RPC0vWkKTxGz"
      },
      "source": [
        "# plot the confusion matrix\n",
        "def plot_confusion_matrix(cm, classes, normalize=False, title='Confusion matrix', cmap=plt.cm.Blues):\n",
        "  if normalize:\n",
        "      cm = cm.astype('float') / cm.sum(axis=1)[:, np.newaxis]\n",
        "      print(\"Normalized confusion matrix\")\n",
        "  else:\n",
        "      print('Confusion matrix, without normalization')\n",
        "  print(cm)\n",
        "  fig = plt.figure(figsize=(20,20))\n",
        "  axx = fig.add_subplot(111)\n",
        "  plt.imshow(cm, interpolation='nearest', cmap=cmap)\n",
        "  plt.title(title)\n",
        "  plt.colorbar()\n",
        "  tick_marks = np.arange(len(classes))\n",
        "  #plt.xticks(tick_marks, classes, rotation=90)\n",
        "  #plt.yticks(tick_marks, classes)\n",
        "\n",
        "\n",
        "  axx.axis(\"equal\")\n",
        "  ax = plt.gca()  # get axis\n",
        "  left, right = plt.xlim()  # get the max and min value of x\n",
        "  ax.spines['left'].set_position(('data', left))\n",
        "  ax.spines['right'].set_position(('data', right))\n",
        "  for edge_i in ['top', 'bottom', 'right', 'left']:\n",
        "      ax.spines[edge_i].set_edgecolor(\"white\")\n",
        "  thresh = cm.max() / 2.\n",
        "  for i in range (cm.shape[0]):\n",
        "    for j in range (cm.shape[1]):\n",
        "      num = '{:.2f}'.format(cm[i, j]) if normalize else int(cm[i, j])\n",
        "      plt.text(j, i, num,\n",
        "                verticalalignment='center',\n",
        "                horizontalalignment=\"center\",\n",
        "                color=\"white\" if num > thresh else \"black\")\n",
        "  plt.tight_layout()\n",
        "  plt.ylabel('True label')\n",
        "  plt.xlabel('Predicted label')\n",
        "  \n",
        "  plt.show()\n"
      ],
      "execution_count": 21,
      "outputs": []
    },
    {
      "cell_type": "code",
      "metadata": {
        "colab": {
          "base_uri": "https://localhost:8080/",
          "height": 1000
        },
        "id": "Brfoysp7T1BF",
        "outputId": "d7f316f6-b344-47d5-ba02-9bc4effd4bfe"
      },
      "source": [
        "classes = np.arange(6)\n",
        "plot_confusion_matrix(conf_matrix,classes)"
      ],
      "execution_count": 22,
      "outputs": [
        {
          "output_type": "stream",
          "name": "stdout",
          "text": [
            "Confusion matrix, without normalization\n",
            "[[460  17   2   1   9  21]\n",
            " [  0  88   0   3   4   2]\n",
            " [  0  10 485  70  15  67]\n",
            " [  1   3   1 339   3   6]\n",
            " [  9  32   4   7 469  38]\n",
            " [ 17  15  31  21  29 441]]\n"
          ]
        },
        {
          "output_type": "display_data",
          "data": {
            "image/png": "[encoded data removed]",
            "text/plain": [
              "<Figure size 1440x1440 with 2 Axes>"
            ]
          },
          "metadata": {
            "needs_background": "light"
          }
        }
      ]
    }
  ]
}